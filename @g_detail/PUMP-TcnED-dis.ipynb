{
 "cells": [
  {
   "cell_type": "code",
   "execution_count": 1,
   "metadata": {},
   "outputs": [],
   "source": [
    "import pandas as pd\n",
    "import matplotlib.pyplot as plt\n",
    "import seaborn as sns\n",
    "import numpy as np\n",
    "from scipy import stats"
   ]
  },
  {
   "cell_type": "code",
   "execution_count": 2,
   "metadata": {},
   "outputs": [],
   "source": [
    "root = 'PUMP-TcnED-dis.csv'\n",
    "df = pd.read_csv(root, index_col=0)\n",
    "df = df.rename(columns={'0': 'label'})"
   ]
  },
  {
   "cell_type": "code",
   "execution_count": 7,
   "metadata": {},
   "outputs": [],
   "source": [
    "label = df['label'].values"
   ]
  },
  {
   "cell_type": "code",
   "execution_count": 8,
   "metadata": {},
   "outputs": [],
   "source": [
    "def point_adjustment(y_true, y_score):\n",
    "    score = y_score.copy()\n",
    "    assert len(score) == len(y_true)\n",
    "    splits = np.where(y_true[1:] != y_true[:-1])[0] + 1\n",
    "    is_anomaly = y_true[0] == 1\n",
    "    pos = 0\n",
    "    for sp in splits:\n",
    "        if is_anomaly:\n",
    "            score[pos:sp] = np.max(score[pos:sp])\n",
    "        is_anomaly = not is_anomaly\n",
    "        pos = sp\n",
    "    sp = len(y_true)\n",
    "    if is_anomaly:\n",
    "        score[pos:sp] = np.max(score[pos:sp])\n",
    "    return score\n"
   ]
  },
  {
   "cell_type": "code",
   "execution_count": 9,
   "metadata": {},
   "outputs": [
    {
     "data": {
      "text/plain": [
       "array([0.00867266, 0.0086707 , 0.00945432, ..., 0.00896055, 0.00904321,\n",
       "       0.00913267])"
      ]
     },
     "execution_count": 9,
     "metadata": {},
     "output_type": "execute_result"
    }
   ],
   "source": [
    "average = np.sum(df.iloc[:, 1:], axis=0).values / len(df)\n",
    "average"
   ]
  },
  {
   "cell_type": "code",
   "execution_count": 10,
   "metadata": {},
   "outputs": [
    {
     "data": {
      "text/plain": [
       "array([0.06839687, 0.03992407, 0.05105365, ..., 0.23739507, 0.05588373,\n",
       "       0.02753953])"
      ]
     },
     "execution_count": 10,
     "metadata": {},
     "output_type": "execute_result"
    }
   ],
   "source": [
    "dis = np.linalg.norm(average - df.iloc[:, 1:], axis=1, ord=np.Inf)\n",
    "dis"
   ]
  },
  {
   "cell_type": "code",
   "execution_count": 11,
   "metadata": {},
   "outputs": [
    {
     "data": {
      "text/plain": [
       "array([0.06839687, 0.03992407, 0.05105365, ..., 0.23739507, 0.05588373,\n",
       "       0.02753953])"
      ]
     },
     "execution_count": 11,
     "metadata": {},
     "output_type": "execute_result"
    }
   ],
   "source": [
    "adjdis = point_adjustment(label, dis)\n",
    "adjdis"
   ]
  },
  {
   "cell_type": "code",
   "execution_count": 12,
   "metadata": {},
   "outputs": [],
   "source": [
    "df3 = pd.DataFrame()\n",
    "df3['label'] = label\n",
    "df3['dis'] = dis\n",
    "df3['adjdis'] = adjdis"
   ]
  },
  {
   "cell_type": "code",
   "execution_count": 13,
   "metadata": {},
   "outputs": [
    {
     "data": {
      "text/plain": [
       "2665"
      ]
     },
     "execution_count": 13,
     "metadata": {},
     "output_type": "execute_result"
    }
   ],
   "source": [
    "true_d = df3[df3.label==0]\n",
    "false_d = df3[df3.label==1]\n",
    "len(true_d)"
   ]
  },
  {
   "cell_type": "code",
   "execution_count": 14,
   "metadata": {},
   "outputs": [
    {
     "data": {
      "image/png": "[encoded data removed]",
      "text/plain": [
       "<Figure size 432x288 with 1 Axes>"
      ]
     },
     "metadata": {},
     "output_type": "display_data"
    }
   ],
   "source": [
    "sns.kdeplot(true_d['dis'], shade=True, color=\"b\", label='Clean')\n",
    "sns.kdeplot(false_d['dis'], shade=True, color=\"r\", label='Polluted')\n",
    "plt.show()"
   ]
  },
  {
   "cell_type": "code",
   "execution_count": 15,
   "metadata": {},
   "outputs": [
    {
     "data": {
      "image/png": "[encoded data removed]",
      "text/plain": [
       "<Figure size 432x288 with 1 Axes>"
      ]
     },
     "metadata": {},
     "output_type": "display_data"
    }
   ],
   "source": [
    "sns.kdeplot(true_d['adjdis'], shade=True, color=\"b\", label='Clean')\n",
    "sns.kdeplot(false_d['adjdis'], shade=True, color=\"r\", label='Polluted')\n",
    "plt.show()"
   ]
  },
  {
   "cell_type": "code",
   "execution_count": null,
   "metadata": {},
   "outputs": [],
   "source": []
  }
 ],
 "metadata": {
  "kernelspec": {
   "display_name": "Python 3",
   "language": "python",
   "name": "python3"
  },
  "language_info": {
   "codemirror_mode": {
    "name": "ipython",
    "version": 3
   },
   "file_extension": ".py",
   "mimetype": "text/x-python",
   "name": "python",
   "nbconvert_exporter": "python",
   "pygments_lexer": "ipython3",
   "version": "3.6.5"
  }
 },
 "nbformat": 4,
 "nbformat_minor": 2
}
